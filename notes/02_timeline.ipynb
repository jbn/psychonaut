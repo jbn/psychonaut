{
 "cells": [
  {
   "cell_type": "code",
   "execution_count": 1,
   "metadata": {},
   "outputs": [],
   "source": [
    "import sys\n",
    "from pathlib import Path\n",
    "from pprint import pprint\n",
    "\n",
    "sys.path.append(str(Path.cwd().parent))\n",
    "\n",
    "\n",
    "from psychonaut.firehose.serde import read_enriched_event\n",
    "from psychonaut.core.car import read_car\n",
    "from psychonaut.client import get_ipynb_client_session\n",
    "from base64 import b64decode\n",
    "\n",
    "sess = await get_ipynb_client_session()"
   ]
  },
  {
   "cell_type": "code",
   "execution_count": 2,
   "metadata": {},
   "outputs": [],
   "source": [
    "with open(\"../psychonaut/firehose/fixtures/donkeyballs.b64\") as fp:\n",
    "    b64 = fp.read()\n",
    "\n",
    "post = b64decode(b64)"
   ]
  },
  {
   "attachments": {},
   "cell_type": "markdown",
   "metadata": {},
   "source": [
    "# Disection of the event stream\n",
    "\n",
    "- The `repo` refers to the repository that the event is associated with\n",
    "- The `ops` is?\n",
    "    - The CID of the op and the CID of teh content change?"
   ]
  },
  {
   "cell_type": "code",
   "execution_count": 11,
   "metadata": {},
   "outputs": [
    {
     "data": {
      "text/plain": [
       "{'repo': 'did:plc:o32okshy54r5h2vlrjpz3aln',\n",
       " 'ops': [{'action': <ActionType.create: 'create'>,\n",
       "   'path': 'app.bsky.feed.post/3ju35q7husm2p',\n",
       "   'cid': CID('base58btc', 1, 'dag-cbor', '1220ada48b7c8394d2855f97e9e47ec0ea63d57778e1af14283ea1a0c2d6a86dc1a0')}],\n",
       " 'commit': CID('base58btc', 1, 'dag-cbor', '122057a8593ed2fc40ec40c792f26ac497262b99f01c6174fa65e11fe672192f215a'),\n",
       " 'prev': CID('base58btc', 1, 'dag-cbor', '12201635542e07f43898837f2b8f632fcf260401dc10f799a11c0f27c6a4be7dbab5'),\n",
       " 'blocks': b':\\xa2eroots\\x81\\xd8*X%\\x00\\x01q\\x12 W\\xa8Y>\\xd2\\xfc@\\xec@\\xc7\\x92\\xf2j\\xc4\\x97&+\\x99\\xf0\\x1cat\\xfae\\xe1\\x1f\\xe6r\\x19/!Zgversion\\x01s\\x01q\\x12 \\xad\\xa4\\x8b|\\x83\\x94\\xd2\\x85_\\x97\\xe9\\xe4~\\xc0\\xeac\\xd5wx\\xe1\\xaf\\x14(>\\xa1\\xa0\\xc2\\xd6\\xa8m\\xc1\\xa0\\xa3dtextkdonkeyballse$typerapp.bsky.feed.posticreatedAtx\\x182023-04-23T23:05:15.184Z\\xd1\\x01\\x01q\\x12 \\xe7&;\\xf7\\xf4P\\x19\\xd1\\xf5\\x06c\\xd2\\xc6\\xbb!}\\x80\\xa3\\xf2\\xe5\\xbc\\xa6Q\\xf7Q\\xaa\\xb1\\xffG\\xbe]\\xd4\\xa2ae\\x81\\xa4akX app.bsky.feed.like/3jt4gr7d26n2hap\\x00at\\xd8*X%\\x00\\x01q\\x12 \\xa1/t\\'\\xec\\x10\\x9c\\xb7\\xdd\\tr\\x12\\x9a\\x8e\\x89\\x04\\xf5\\xb4\\xd8\\xefu\\x03:\\xad\\x1f\\xf1\\x8c\\x82\\xe4\\xc7\\x15=av\\xd8*X%\\x00\\x01q\\x12 \\x14\\xa8o\\xbb\\xed\\x1f\\xe7\\x1fT,i\\xdb\\xb6\\x84\\xe2\\xb9L(\\xc8=<\\x0b\\x97\\x14\\x11U\\xdeQ\\xe6Q\\x7f\\xc7al\\xd8*X%\\x00\\x01q\\x12 \\xcd\\xab`\\x83o \\xc4\\x05\\xe6\\'3~\\x8d.Z\\x18\\n\\xb0\\xc7\\xfd\\xba\\x90p\\xff\\xdb\\xf0$\\xeb\\x11\\xbc`\\x12S\\x01q\\x12 \\xa1/t\\'\\xec\\x10\\x9c\\xb7\\xdd\\tr\\x12\\x9a\\x8e\\x89\\x04\\xf5\\xb4\\xd8\\xefu\\x03:\\xad\\x1f\\xf1\\x8c\\x82\\xe4\\xc7\\x15=\\xa2ae\\x80al\\xd8*X%\\x00\\x01q\\x12 \\xdc\\xb5u/\\xd2\\xdd\\xa8\\x1dx\\xa9\\x17\\xa5\\x1f\\x16\\xdaX\\xf7\\xab\\x1a\\x10\\x95_\\x07\\x8a~\\xc2\\xa6\\xc0\\x16\\x1b\\xcfw\\xd6\\n\\x01q\\x12 \\xdc\\xb5u/\\xd2\\xdd\\xa8\\x1dx\\xa9\\x17\\xa5\\x1f\\x16\\xdaX\\xf7\\xab\\x1a\\x10\\x95_\\x07\\x8a~\\xc2\\xa6\\xc0\\x16\\x1b\\xcfw\\xa2ae\\x8c\\xa4akX app.bsky.feed.like/3jt7ahzizs22aap\\x00at\\xd8*X%\\x00\\x01q\\x12 .y\\x05\\x85\\x7f\\xa4\\x9f\\x1eu\\x94\\xa6\\xfbL\\xcc\\x8c4\\xa7\\xff\\xa6^\\xb0O1\\xd9\\x94\\xe0\\x95~\\xc0\\x8eA\\xe7av\\xd8*X%\\x00\\x01q\\x12 \\x94\\x96\\x07(\\x9c\\xf1\\xc2\\xb4_Jm\\xcdr\\xfdT\\xe8\\xbc\\x17\\x83`\\xd4\\'\\x86\\xd2F\\xa5\\xf9\\xef\\xdd\\xf0t\\xa8\\xa4akIpgweovu2iap\\x17at\\xd8*X%\\x00\\x01q\\x12 \\xdf-*\\xe1\\xe2\\xcd\\xec\\xeb\\xbcn\\x80h\\xf6\\x03\\x9c8\\x0bY\\xeb\\x04\\t:4+J\\x11\\xd0\\x0f\\x9cR\\x1b^av\\xd8*X%\\x00\\x01q\\x12 >/\\xa8QfEW\\xb7\\x97M\\xf9\\x17\\xf6\\xb0\\x96\\xa7M\\xf70\\xd9{\\xdd\\xf3r\\xadYu5Q\\xa7\\x03\\x8f\\xa4akJe6hm4rjn2oap\\x16at\\xd8*X%\\x00\\x01q\\x12 \\xc9:\\xa6g\\xfa4\\x18\\xa6\\x0eA\\xa1\\xd9\\xa0\\x9b\\x92x\\x92\\xd8UL\\xfc\\x18\\xf5\\xd6\\xa8\\xad\\xf0\\x88\\\\\\\\\\xc7\\x9dav\\xd8*X%\\x00\\x01q\\x12 \\xb82\\xa7\\xc0\\x82\\xae\\x99\\r\\xba\\xd7\\xa2\\xcc:\\x11\\xc6\\xcfp\\x82$\\xe0D\\xe7>st\\x0c\\xce\\x8c\\xc2\\xa1\\x86\\x9d\\xa4akJjziwyivk2yap\\x16at\\xd8*X%\\x00\\x01q\\x12 foR\\xf2\\x8d,\\x12\\x1d\\xa7\\xc7\\x89\\xd6xE\\xe1\\xb499\\xcdF5\\x031\\xa8\\xac\\xf7\\x8c\\\\\\xea\\x03\\xa5Xav\\xd8*X%\\x00\\x01q\\x12 0b\\xa7\\xe3\\xe7t\\xb2bW\\xebfB\\xe3>\\xfe)\\xe4SY\\xba\\x1aF\\x86E$\\xe37n\\xcf\\xda\\xfa\\xea\\xa4akJl2oxlenx2aap\\x16at\\xd8*X%\\x00\\x01q\\x12 \\x88O\\x13\\xb8\\xa1D\\xf9m\\x80Q^\\xe6\\xf3\\xa1u\\x16\\xfd\\xcdj\\xba\\xb2#\\xbd`\\xef\\x9a.\\xbc\\x01T\\x1e~av\\xd8*X%\\x00\\x01q\\x12 A\\xbf\\x0e\\x99\\x9d\\x14\\xfa\\xf1\\xa0\\x80\\n\\x9a\\xf5\\xd2sW\\xc8Z\\'M\\xa1\\xf5\\xd9\\xbal&>(*\\xe0&\\xf8\\xa4akIoriviqk2iap\\x17at\\xd8*X%\\x00\\x01q\\x12 3\\xc0\\xcb\\x1d\\xf8V\\x94Rk\\x04\\x03\\xa90\\xdd\\x87\\x8f[\\xd5\\x05)pH\\xb8\\x04\\xa3\\xaf?{\\xec\\xcd\\xbc\\xe8av\\xd8*X%\\x00\\x01q\\x12 \\xceu\\x11;\\x18\\xae\\xd3oS\\x05\\x18\\xee\\xbb\\xd1\\xa2L\\x02\\xc4$(\\xc3\\x1f\\xbd\\xbeS<}\\xcam\\\\\\xc8\\x94\\xa4akJttykun6o22ap\\x16at\\xd8*X%\\x00\\x01q\\x12 \\x01T\\x86\\x89\\n\\x99r\\x8a\\xc1\\x14\\xe1\\xc7[\\x14\\x17\\x81\\xa8\\xd6]X\\xec\\xea\\xc9\\x85\\xd3X\\xcd\\xb1\\xed\\x1a\\x8e\\xe3av\\xd8*X%\\x00\\x01q\\x12 T\\x05\\x8d\\x17\\xc5\\xa5\\xed\\t\\xe8\\xa8/\\xb6\\x84|\\x81d?\\x07\\xb9\\xe0.*\\x87\\x92\\xd3\\x8e->D\\xda\\x8e\\x8d\\xa4akJvza7xlva27ap\\x16at\\xd8*X%\\x00\\x01q\\x12 }}&[/\\xa5c;\\x13\\xbd\\xda\\x86\\xa5P\\xfb\\xf1\\xf4\\xdbOg}\\xe0\\xcfNJkD\\xd4\\x12\\x0f\\xa3\\xd1av\\xd8*X%\\x00\\x01q\\x12 \\x00\\x97\\xc0\\xcax\\xf7Y^q\\xde\\xfa\\xda\\xb2\\x14\\xd9:3\\x15\\xf0)_\\x0f\\xe27\\x81fe\\x9f3\\x80\\'n\\xa4akKu2azjsboc2nap\\x15at\\xd8*X%\\x00\\x01q\\x12 \\xf3H\\x0b\\xc2h\\xaf\\x13+\\xd6Y\\xac\\x92TU\\x83\\xd4\\x16\\x89\\xc3\\xc2\\x9d\\xcf\\x84j\\x05[\\x08YY\\xf0oyav\\xd8*X%\\x00\\x01q\\x12 \\x14\\xbb\\xcd+\\xc4U\\xeah\\xcc7.\\xad\\x16\\xc9m\\xf1\\xc7\\xcfw2E\\xeaq\\x87\\xb1`\\x9f\\x16B `\\x99\\xa4akRpost/3jt56nehjsk2bap\\x0eat\\xd8*X%\\x00\\x01q\\x12 \\xbb!\\xc0hV\\t<\\xeb\\xa4g\\x00\\x1b>o\\xee\\x18\\x02S\\xf8\\xdc\\xe3\\xecr\\x00hY\\x02\\x17\\r4|\\xb0av\\xd8*X%\\x00\\x01q\\x12 q\\xadPJ\\xd4@AS\"$\\xc6u\\x90\\xc7\\xb9\\x88edqL3\\xc7Uq\\xd9x\\xd1i]\\xd9y\\x12\\xa4akX\\x1agraph.follow/3jszdb2cxmc24ap\\tat\\xd8*X%\\x00\\x01q\\x12 0o\\x18\\xe4=\\x06\\xba\\x0c\\xc4\\x95\\x15\\x8c\\xf8\\xa3b\\x0b\\x9fTH\\xd6\\x89H\\x13\\xbdz\\xc3\\x1d\\x08(\\x8d\\xf7\\x08av\\xd8*X%\\x00\\x01q\\x12 \"\\xfa\\x10\\x08^%\\xf9\\xdd\\xdeVL1\\x7fR]\\xd1\\x8bS\\xcd\\x87\\x9e\\xf1\\xbcc{6\\xbaZm-Y.\\xa4akIrxp77ec2sap\\x18\\x1aat\\xd8*X%\\x00\\x01q\\x12 \\x12\\xa5\\x0f\\xf8\\xbeR\\xfc\\xbc\\xb3\\xbd\\xe2\\xc1T\\x9c~\\x11\\x8f\\x95\\xb6\\xb0\\xe3\\xb7\\x85\\xc8RD\\xff\\xc8\\xf3\\x9cbSav\\xd8*X%\\x00\\x01q\\x12 a\\xcf\\xf8\\xfb\\xd6A}\\xb6CT\\xf3=vJ\\x05`Y\\xeai\\xd7\\t<Fs\\xce\\x8cD\\xae\\xb9 \\xd5Nal\\xd8*X%\\x00\\x01q\\x12 }\\xcb~\\xd3\\xa4L\\xe4\\x0b%\\xab\\xd8\\x82\\x03O\\xc9\\t\\xe4\\x9c\\x97\\xec\\xa2OD#\\x12\\x82\\xfe\\x9fh\\xa3\\t\\x04\\xc2\\x07\\x01q\\x12 \\xbb!\\xc0hV\\t<\\xeb\\xa4g\\x00\\x1b>o\\xee\\x18\\x02S\\xf8\\xdc\\xe3\\xecr\\x00hY\\x02\\x17\\r4|\\xb0\\xa2ae\\x88\\xa4akX app.bsky.feed.post/3jt76otcoqk2aap\\x00at\\xd8*X%\\x00\\x01q\\x12 @qM\\xfb\\x04\\xe8\\xb7Er\\xf9|\\x8e\\x9e\\x00d\\x94\\xad\\xfb\\x7f,?\\xcfu3\\xd8\\xb2\\xb0\\x96\\x12I\\xee\\x82av\\xd8*X%\\x00\\x01q\\x12 \\xdb\\xfb\\x99\\xef\\xa0\\xbe\\xab\\xc5\\x89I\\xbc0P\\xe4\\x04P\\xb6C8\\xa7\\xbb!&\\x0bhkf\\x07\\xc9\\x18\\x96\\x1f\\xa4akJjntobu2d2oap\\x16at\\xd8*X%\\x00\\x01q\\x12 \\xe5\\x8e\\xb2\\xee\\xc6\\xf6\\xe0\\xed\\xf6Gg\\xbcG\\xf3\\xf8Hy*\\x92\\xee\\xe3\\xd8a\\xd2\\xf75\\xa1GC\\xfe\\x86\\xd3av\\xd8*X%\\x00\\x01q\\x12 \\xee\\xd0Y\\xc4\\xcb\\xab1\\xb2\\xf0\\x95Z\\xd0\\x94\\x8c\\x07\\xf3\\x1bKX\\x03J\\xc0\\xa8\\x8c~(>O#\\xdc1\\x18\\xa4akJk6ddsem72iap\\x16at\\xd8*X%\\x00\\x01q\\x12 !\\xbe#\\x7fI\\x92.\\xbcn\\xb4\\xbb\\xb3\\x95\\xbf\\xf0\\xeb#\\xc3\\x9b\\x11\\x19\\xe4\\xf2%$W\\xd8\\xc3\\x15\\xe6\\x04~av\\xd8*X%\\x00\\x01q\\x12 \\xca\\xcbaA\\xdd\\x97\\xac\\x9f\\x8c\\x86tJ\\x93\\xe8\\x8a?xC\\x17\\xf0\\xe5\\xa5t\\xba\\x1b\\xcb\\xa7\\xbc\\x02r>6\\xa4akTrepost/3jt56k7hyms2aap\\x0eat\\xd8*X%\\x00\\x01q\\x12 \\xf7\\'7\\xde--\\xa1Z\"\\x9bU@\\xd0Q\\xc0@GnW\\x8e\\x0f\\x92pK\\xf3$0\\xe1H1}\\xffav\\xd8*X%\\x00\\x01q\\x12 \"f\\n| b\\xc4\\x16\\x01\\x1b\\x1b\\x13\\xa7\\xbfO\\xb9\\nGc\\xf2*sv\\xdcF\\xd22\\xb1\\x1d\\xc5\\x93t\\xa4akJweup4noh2qap\\x18\\x18at\\xd8*X%\\x00\\x01q\\x12 \\x8e\\xe4\\xc2\\xaa8\\x8c\\x0b\\x998U\\x98\\x83\\xcb%\\xa3\\x1a\\xf0i\\xa4\\x87\\xbc\\x18Z\\xa6\"l\\x982Z\\xee\\xcd\\xd5av\\xd8*X%\\x00\\x01q\\x12 \\x1f\\xed\\xd6\\xc9\\xd2\"\\x9a\\xb4\\xcfR/_#\\xc6:hSK\\x15\\xcc\\x96\\xb4\\x95\\xbe*\\xab\\xcb\\x00\\xac\\xddl\\x90\\xa4akX\\x1agraph.follow/3jppy7qla5s2map\\tat\\xd8*X%\\x00\\x01q\\x12 \\xb3\\xe9\\x15\\x0c\\xfeG\\xed\\xf2\\xef\\xe7\\xf3\\xa12\\x0e\\xd6zR\\x8e\\x8f\\x97\\x16ei-\\xc7j\\xcd\\xc6\\xb1\\x16\\xfa\\x1aav\\xd8*X%\\x00\\x01q\\x12 \\xdf\\xb48\\xeb9\\x0c)t6\\x10\\x80\\xf8\\x1d\\x00\\x89\\xdd\\x03:\\x86+\\x91)\\x10\\xcb\\x03\\xc1$O.[\\xa3\\xc1\\xa4akKrxgj3zo6k22ap\\x18\\x18at\\xd8*X%\\x00\\x01q\\x12 \\xef\\xf9\\x98\\n\\xc1=\\xb7Z\\xc5\\xe0\\x1a\\x97\\xa6\\xbdw\\xe7e\\xc8\\xb9\\xebV|\\xacW\\xcf\\xe1nWI\\x8f.\\x83av\\xd8*X%\\x00\\x01q\\x12 i\\xdd\\\\\\xc7\\x19b\\xac\\x8eo\\x8a\\x08\\x8d/\\xf0\\xac|\\xc6$\\xdb\\xda\\x8d\\x7f\\xab\\x85\\x8c\\xb5\\xa3\\xdf\\rW$i\\xa4akKsyaflu7ok2sap\\x18\\x18at\\xd8*X%\\x00\\x01q\\x12 \\xb0\\xbd\\xaf~\\xe1\\x19\\xef\\xa6\\xb21\\x9b\\x88\\x08tR\\xd7sW;\\x14\\xa3\\xdb\\xf6P\\x9f\\x83\\xc0f\\xdbi\\x10\\x05av\\xd8*X%\\x00\\x01q\\x12 \\x10?\\xae\\x84\\x87\\xa2\\xe1A\\xd7\\xdd\\x11\\xd9<\\\\X\\xca:{B\\x88\\xde\\xd3\\xebsc\\xc5\\xb2#\\xb4\\x9e\\xd5\\x9bal\\xd8*X%\\x00\\x01q\\x12 Q\\xf9P0\\xc9\\xaa\\xd9\\x12\\x0es9g\\xd85\\xf58Ct\\xc1\\x84\\xfbOa\\xb1\\x0e\\xa3\\xdb.M\\xa6+M\\xc4\\x04\\x01q\\x12 !\\xbe#\\x7fI\\x92.\\xbcn\\xb4\\xbb\\xb3\\x95\\xbf\\xf0\\xeb#\\xc3\\x9b\\x11\\x19\\xe4\\xf2%$W\\xd8\\xc3\\x15\\xe6\\x04~\\xa2ae\\x85\\xa4akX app.bsky.feed.post/3jtyezkbg272gap\\x00at\\xd8*X%\\x00\\x01q\\x12 O#\\xa3\\x91_\\x19&\\xd9\\x17f\\xff@\\x12\\xb0\\x93\\xb7\\x86\\xf6/\\t=\\x14\\tm\\x13{U\\xfcz\\xfb6\\\\av\\xd8*X%\\x00\\x01q\\x12 \\xc2Z\\x8f*^\\x91\\xcd\\n?\\xe1\\x15*(\\xe6\\xa0~<\\xae\\x9e!\\x1e\\xfdGi\\x10\\xc1a\\xd3\\x17n\\xad\\xaf\\xa4akIpxbjyh62sap\\x17at\\xf6av\\xd8*X%\\x00\\x01q\\x12 \\x93\\xe7%\\xe6\\x85\\xff%\\xa7\\x7fd\\xac\\xe2N\\x9a\\x04\\xdb\\xaf\\x91~>\\x8e\\xd7\\xe2W\\xe3\\x8a\\x9c4\\x8d\\xd9\\xcb\\xb6\\xa4akHynlvsx2aap\\x18\\x18at\\xd8*X%\\x00\\x01q\\x12 \\xbc\\x7f\\xdf\\x173T\\xf7\\xd7\\xd1u?DG\\x93\\xbd\\xfc\\x0f\\xbb\\x95\\x14\\x1f\\xd9R\\x8e\\x1f\\xc8\\x97\\xa0dPt\\xc8av\\xd8*X%\\x00\\x01q\\x12 \\xa5\\x9b\\xdej\\xa9\\x95\\n\\x18\\x01c\\x83\\t\\xc9\\x91\\x0c8\\xbd\\x1e\\x92+y\\xa9y\\x96\\xf0\\x04\\x87x\\xd1\\x88B\\xe8\\xa4akJz2wctehe2nap\\x16at\\xd8*X%\\x00\\x01q\\x12 \\xfd\\xfec3\\x03b63\\xd6x\\x02\\x88`n\\xdd\\xb6\\xa4%\\xd0I\\x81\\xc7p\\xcd\\x8c\\xf8\\xf6\\xcc\\xe2\\x0cH\\xa1av\\xd8*X%\\x00\\x01q\\x12 \\xbf\\xd5\\x96\\x84\\xcb\\xee8\\xbe\\'\\xe4.\\x8aS\\xb0O\\x1d0\\x03\\xd1%(@\\xc5\\xcd`\\xf5c\\xfe\\xc3\\x0f=\\xdb\\xa4akKu2lablkkf2uap\\x15at\\xd8*X%\\x00\\x01q\\x12 ?\\xe3\\x0b\\x02G+\\x93\\xdaC\\xca\\xb4\\']\\xfb\\x94p\\x11\\xb7s\\x91\\x18\\xe3\\xe9?\\x80#r\\x95YF\\x1f\\xb1av\\xd8*X%\\x00\\x01q\\x12 fB\\xc8c\\xe7\\x7f\\xe4_q\\xebb\\x11\\xbf\\x8ah\\xfb}\\xf7{\\x86\\xfdbr\\xfa\\x1a\\x18\\xae\\xc8\\xaby\\xa6\\x05al\\xd8*X%\\x00\\x01q\\x12 $a:B\\xc5U1S\\xcb\\xd5\\xb2\\x88tuc\\xc6Tu\\xe1b\\xd1\\xa1\\x98}\\x0c\\xb6\\xe0\\x13U\\xcdkS\\xa0\\t\\x01q\\x12 ?\\xe3\\x0b\\x02G+\\x93\\xdaC\\xca\\xb4\\']\\xfb\\x94p\\x11\\xb7s\\x91\\x18\\xe3\\xe9?\\x80#r\\x95YF\\x1f\\xb1\\xa2ae\\x8c\\xa4akX app.bsky.feed.post/3ju2lg4jtgm2gap\\x00at\\xf6av\\xd8*X%\\x00\\x01q\\x12 oSA5\\xabt\\xfc\\x1f\\x19\\xa3\\x92\\xaf\\x96\\xbb}\\xb5f5\\x13\\xe3:\\xd1\\xd58\\x11\\xa2\\x01\\x84C\\x08W\\x96\\xa4akGvfich2xap\\x18\\x19at\\xd8*X%\\x00\\x01q\\x12 4\\xe7W\\xdc.\\x99\\x83c\\x87\\xea\\xbd\\x04L\\xc4@\\xa7\\xe8&\\xf3\\x01_\\xaa+\\xe2\\x8d#\\xf3l\\x1eU\\x81\\x9aav\\xd8*X%\\x00\\x01q\\x12 \\x7f\\xb4\\x9b\\x91I1h\\x9c\\x9b\\xd2\\xea\\xa3\\xca\\xdbD\\x10\\x9b$\\xe4\\xf7\\x89\\x03\\x1f\\x81\\xeb\\xfd\\x19@\\xb0%\\x97\\t\\xa4akIm5gge3222ap\\x17at\\xd8*X%\\x00\\x01q\\x12 \\xa8@/O\\n\\x1dB.\\r!\\xc6\\x94&+\\xed8\"^\\xb1\\x00\\xf7A\\xe4hAS\\xa4\\x1a\\xf2lz3av\\xd8*X%\\x00\\x01q\\x12 \\xa86t\\xf4a\\x0f\\xa9+u\\xc3kw\\xeb\\xf2\\xffvm\\x0e\\x8a%\\xe6A\\x9d\\x83\\xc6_\\xe9\\xb4\\x84\\xfe\\xb3\\xf0\\xa4akIpor7hce2uap\\x17at\\xd8*X%\\x00\\x01q\\x12 \\xb8\\x1b\\xd7\\xe3\\xc8\\x1a\\xf0K\\xeeX\\x1f\\xbbz\\xea\\xf3\\xb0.\\xdc\\x84\\xf5\\xbb\\x8a\\xf2\\x06\\xa3\\x89\\xdf\\xbf\\xba\\rDLav\\xd8*X%\\x00\\x01q\\x12 \\xca\\x0f\\xe6d\\x8b\\x8e\\x02\\xb0\\xcdjgo>\\xc3\\xb4\\xf7\\xe7\\xd1\\xc8\\x91\\xc6\\x02\\xf2\\xe9#\\x01y\\x12\\x80\\x80\\xc8\\xd3\\xa4akItz2sj572gap\\x17at\\xf6av\\xd8*X%\\x00\\x01q\\x12 z\\xcd\\xf1\\xee\\xd6\\x13q\\xbb\\xe1\\x1e\\x1b\\xcf5\\xef\\xba\\xa5vX\\xa7\\x9cq\\xc4%\\x1dL\\xee\\xb9\\xa9!\\x0fg\\x08\\xa4akGwpttj2uap\\x18\\x19at\\xd8*X%\\x00\\x01q\\x12 f\\xb2\\xefB6|.\\xec\\x7fAJ1\\xe4|\\xd0\\xe9B,\\x0f\\\\d\\x06\\xb5\\x8fOdk\\x8f&D\\x05\\xfcav\\xd8*X%\\x00\\x01q\\x12 \\xfdG`\\xf4@\\xdf\\xf1\\x87\\x95\\x05\\xd7\\x8d\\x84\\xc5\\xfa\\xcb\\x02\\xfc\\x1e\\n^\\xec\\x86*J\\x05\\'\\x01\\'\\x06\\xd2\\x9d\\xa4akIy5qzqka22ap\\x17at\\xd8*X%\\x00\\x01q\\x12 F\\xf90\\xfe\\xde\\xf6O\\x81\\xb24=rZ\\xbb\\xc5\\x1a5\\x01\\x18\\x1f\\xee\\xa43\\x1d\\x85\\x94\\xe6\\x89B\\xcb\\x84\\x02av\\xd8*X%\\x00\\x01q\\x12 \\xccA(Qc\\xe7\\nt\\x9f \\xf8@t\\xad\\x07\\xb3\\xad.\\x89\\x01\\xd8\\x83]\\xa7\\x9d\\x9bH\\x17\\xe8i\\xe2\\x88\\xa4akJ334m3f2r2gap\\x16at\\xd8*X%\\x00\\x01q\\x12 by\\x0b\\x1f\\xb4\\x94\\x89\\x97\\xae\\x95qt\\xaf\\xe0J \\x83M\\xc1\\xf5\\x8f\\x99\\xebD\\xd9\\xdc\\xef\\xb5\\xe0|\\xf4\\x8cav\\xd8*X%\\x00\\x01q\\x12 \\xa6E$8\\xdcCV\\xf0\\xc7N0\\xb4.B\\x9b\\x94\\x03\\xdf\\xc0\\xfb=jp\\xb7\\x81\\xfb\\x16t\\xddn\\xc2v\\xa4akI5q7husm2pap\\x17at\\xd8*X%\\x00\\x01q\\x12 \\x9bB\\xb5\\x1e\\x04^\\xbf\\x82(\\xab\\xc4\\x1b\\x9a\\xc9\\xd5|\\xde.\\xf9\\xdb7\\xfe\\xa8\\xb5\\x82\\xed\\xfe\\x00\\x93\\xb4\\tTav\\xd8*X%\\x00\\x01q\\x12 \\xad\\xa4\\x8b|\\x83\\x94\\xd2\\x85_\\x97\\xe9\\xe4~\\xc0\\xeac\\xd5wx\\xe1\\xaf\\x14(>\\xa1\\xa0\\xc2\\xd6\\xa8m\\xc1\\xa0\\xa4akTrepost/3jszfqwzrtc2jap\\x0eat\\xf6av\\xd8*X%\\x00\\x01q\\x12 \\x0f\\x11\\xe6>\\xee\\xc4u\\xeb-\\xfab\\'\\xd0\\xb2\\xb3\\xa2X\\xd6\\xf9_\\'\\x0cKC\\xf6\\xf0\\x07\\xc7\\xe0\\x92T_\\xa4akKt25lok6sc26ap\\x17at\\xd8*X%\\x00\\x01q\\x12 \\x9a\\x80\\xff\\x92\\x86\\xdb\\xefp\\x8el\\tf\\xc7q(\\x94\\x90_\\xc6\\x8c\\xdb\\xc0\\x07cE\\xe0\\xf6b\\x82\\n\\xd5bav\\xd8*X%\\x00\\x01q\\x12 (\\xc0\\x90\\xe3c\\xd8U\\xc5\\rM\\x90}C\\x1ej\\xe01\\xc8\\xfeD\\x90\\x03:g_io\\x87g\\xe6u\\xd6\\xa4akIalszq3k26ap\\x18\\x19at\\xd8*X%\\x00\\x01q\\x12 \\xd5}\\x17l\\\\L\\x044_8\\xf7NQW\\x02\\xdb[\\xb0\\x7f\\x97&\\r\\x90\\xae\"i5\\xd0\\xdd\\x82\\xc3\\x93av\\xd8*X%\\x00\\x01q\\x12 \\xd0Rb\\x99\\x97\\x84\\xe1U\\x19\\xce\\xd9\\x10\\xcc\\xd2m\\xa9\\xb5-D\\xc86e\\x80\\xca?\\x1f\\xc8\\xca\\x97\\xf11\\xfcal\\xf6\\x81\\x01\\x01q\\x12 by\\x0b\\x1f\\xb4\\x94\\x89\\x97\\xae\\x95qt\\xaf\\xe0J \\x83M\\xc1\\xf5\\x8f\\x99\\xebD\\xd9\\xdc\\xef\\xb5\\xe0|\\xf4\\x8c\\xa2ae\\x81\\xa4akX app.bsky.feed.post/3ju33oq6tau23ap\\x00at\\xf6av\\xd8*X%\\x00\\x01q\\x12 )\\x85d?n\\xaa\\x98F\\xe1\\xe2@\\xf4\\x86&\\xe1b\\xb5\\x01\\x037\\n\\xd4\\xbf\\xfa\\xd9\\xcd\"\\x08%K\\x00\\x87al\\xf6\\x83\\x01\\x01q\\x12 \\x9bB\\xb5\\x1e\\x04^\\xbf\\x82(\\xab\\xc4\\x1b\\x9a\\xc9\\xd5|\\xde.\\xf9\\xdb7\\xfe\\xa8\\xb5\\x82\\xed\\xfe\\x00\\x93\\xb4\\tT\\xa2ae\\x81\\xa4akX\"app.bsky.feed.repost/3jqm5ypl3mk2gap\\x00at\\xf6av\\xd8*X%\\x00\\x01q\\x12 \\xe5n\\x02\\xf0\\xc7\\xcdL\\x87\\xebS\\x99xO\\xa2\\x93\\xac\\xfen\\x97P\\xec\\x17;\\xe8\\xf9yb\\xeeKZ\\xba*al\\xf6\\xf6\\x01\\x01q\\x12 W\\xa8Y>\\xd2\\xfc@\\xec@\\xc7\\x92\\xf2j\\xc4\\x97&+\\x99\\xf0\\x1cat\\xfae\\xe1\\x1f\\xe6r\\x19/!Z\\xa5cdidx did:plc:o32okshy54r5h2vlrjpz3alncsigX@u\\xa8\\x8a\\xfa@\\x15\\xbd\\x1f\\x94\\x0bN\\xfb\\x01\\x16\\x0c>\\xaa\\x8d\\x06\\x06u0tG\\xf9\\xb7(\\x03\\x98LS\\x91xB\\xa1\\t\\xc2v\\xaeUH\\xb4\\xd0l\\xf9\\x8d\\xd5\\xb5\\xdd\\x16\\xd4W8\\x0f)\\xc2\\xbd\\x82\\x11\\x85\\x16\\n\\xaa-ddata\\xd8*X%\\x00\\x01q\\x12 \\xe7&;\\xf7\\xf4P\\x19\\xd1\\xf5\\x06c\\xd2\\xc6\\xbb!}\\x80\\xa3\\xf2\\xe5\\xbc\\xa6Q\\xf7Q\\xaa\\xb1\\xffG\\xbe]\\xd4dprev\\xd8*X%\\x00\\x01q\\x12 \\x165T.\\x07\\xf48\\x98\\x83\\x7f+\\x8fc/\\xcf&\\x04\\x01\\xdc\\x10\\xf7\\x99\\xa1\\x1c\\x0f\\'\\xc6\\xa4\\xbe}\\xba\\xb5gversion\\x02',\n",
       " 'blobs': [],\n",
       " 'rebase': False,\n",
       " 'too_big': False}"
      ]
     },
     "execution_count": 11,
     "metadata": {},
     "output_type": "execute_result"
    }
   ],
   "source": [
    "event = read_enriched_event(post)\n",
    "event.dict()"
   ]
  },
  {
   "cell_type": "code",
   "execution_count": 6,
   "metadata": {},
   "outputs": [
    {
     "data": {
      "text/plain": [
       "{'handle': 'generativist.xyz',\n",
       " 'did': 'did:plc:o32okshy54r5h2vlrjpz3aln',\n",
       " 'didDoc': {'@context': ['https://www.w3.org/ns/did/v1',\n",
       "   'https://w3id.org/security/suites/secp256k1-2019/v1'],\n",
       "  'id': 'did:plc:o32okshy54r5h2vlrjpz3aln',\n",
       "  'alsoKnownAs': ['at://generativist.xyz'],\n",
       "  'verificationMethod': [{'id': '#atproto',\n",
       "    'type': 'EcdsaSecp256k1VerificationKey2019',\n",
       "    'controller': 'did:plc:o32okshy54r5h2vlrjpz3aln',\n",
       "    'publicKeyMultibase': 'zQYEBzXeuTM9UR3rfvNag6L3RNAs5pQZyYPsomTsgQhsxLdEgCrPTLgFna8yqCnxPpNT7DBk6Ym3dgPKNu86vt9GR'}],\n",
       "  'service': [{'id': '#atproto_pds',\n",
       "    'type': 'AtprotoPersonalDataServer',\n",
       "    'serviceEndpoint': 'https://bsky.social'}]},\n",
       " 'collections': ['app.bsky.actor.profile',\n",
       "  'app.bsky.feed.like',\n",
       "  'app.bsky.feed.post',\n",
       "  'app.bsky.feed.repost',\n",
       "  'app.bsky.graph.block',\n",
       "  'app.bsky.graph.follow'],\n",
       " 'handleIsCorrect': True}"
      ]
     },
     "execution_count": 6,
     "metadata": {},
     "output_type": "execute_result"
    }
   ],
   "source": [
    "from psychonaut.api.lexicons.com.atproto.repo.describe_repo import DescribeRepoReq\n",
    "\n",
    "\n",
    "resolved_handle = await DescribeRepoReq(repo=event.repo).do_xrpc(sess)\n",
    "resolved_handle.dict()"
   ]
  },
  {
   "attachments": {},
   "cell_type": "markdown",
   "metadata": {},
   "source": [
    "So it seems like the ops CID corresponds to the first CID in the CAR blocks.\n",
    "\n",
    "IDK what the root blocks are though. It seems its the final block in this example?"
   ]
  },
  {
   "cell_type": "code",
   "execution_count": 15,
   "metadata": {},
   "outputs": [
    {
     "data": {
      "text/plain": [
       "'zdpuAx7GYAybGShxy9wvkK5eJt6a5G47tz5z5yeFcDqChfYE3'"
      ]
     },
     "execution_count": 15,
     "metadata": {},
     "output_type": "execute_result"
    }
   ],
   "source": [
    "str(event.ops[0].cid)"
   ]
  },
  {
   "cell_type": "code",
   "execution_count": 16,
   "metadata": {},
   "outputs": [
    {
     "data": {
      "text/plain": [
       "('zdpuArKcqh4Bfc5ufSWKTSS1jFRYJ47gpuxCEVXeWdMEjDpAM',\n",
       " [Block(cid=zdpuAx7GYAybGShxy9wvkK5eJt6a5G47tz5z5yeFcDqChfYE3, data=[79 bytes]),\n",
       "  Block(cid=zdpuB1ykUW72jPYKQiPgL5TLsXEjQgMh6EuXeX3WUDhdm6JQs, data=[173 bytes]),\n",
       "  Block(cid=zdpuAwGe6AfzH6duihBcya3Lx8ttpPhkyNY61wAzhhYwFjhp8, data=[47 bytes]),\n",
       "  Block(cid=zdpuB1Gzf7TGkaXawv3HUwgPyE4qCktVzpQFNp5Bm1SMQZoyY, data=[1330 bytes]),\n",
       "  Block(cid=zdpuAy1va7n3FKYGrBhnbCVSRfGM8k1MQH6ywN5XzxZpXTz4o, data=[926 bytes]),\n",
       "  Block(cid=zdpuAnhA6WihK9nkqhBAjqgZig2b3EWNnDcdFmVhoGB1V1ZdP, data=[544 bytes]),\n",
       "  Block(cid=zdpuApipxw7YXVnxBhd25eNuzoymDzVNLeXMSdbE8U4hEdRxk, data=[1148 bytes]),\n",
       "  Block(cid=zdpuAs3qVG5yv8pD966Cm7WySfkQCcfnrmK6b4MkM16eBCxTu, data=[93 bytes]),\n",
       "  Block(cid=zdpuAvsWfvHv5JMQX8aMSVXcUjVay9eUowWk3xMSrYXapZryq, data=[95 bytes]),\n",
       "  Block(cid=zdpuArKcqh4Bfc5ufSWKTSS1jFRYJ47gpuxCEVXeWdMEjDpAM, data=[210 bytes])])"
      ]
     },
     "execution_count": 16,
     "metadata": {},
     "output_type": "execute_result"
    }
   ],
   "source": [
    "roots, blocks = read_car(event.blocks)\n",
    "str(roots[0]), blocks"
   ]
  },
  {
   "cell_type": "code",
   "execution_count": 83,
   "metadata": {},
   "outputs": [
    {
     "data": {
      "text/plain": [
       "({'zdpuB1Gzf7TGkaXawv3HUwgPyE4qCktVzpQFNp5Bm1SMQZoyY'},\n",
       " {'zdpuAnhA6WihK9nkqhBAjqgZig2b3EWNnDcdFmVhoGB1V1ZdP',\n",
       "  'zdpuApipxw7YXVnxBhd25eNuzoymDzVNLeXMSdbE8U4hEdRxk',\n",
       "  'zdpuArKcqh4Bfc5ufSWKTSS1jFRYJ47gpuxCEVXeWdMEjDpAM',\n",
       "  'zdpuAs3qVG5yv8pD966Cm7WySfkQCcfnrmK6b4MkM16eBCxTu',\n",
       "  'zdpuAvsWfvHv5JMQX8aMSVXcUjVay9eUowWk3xMSrYXapZryq',\n",
       "  'zdpuAwGe6AfzH6duihBcya3Lx8ttpPhkyNY61wAzhhYwFjhp8',\n",
       "  'zdpuAx7GYAybGShxy9wvkK5eJt6a5G47tz5z5yeFcDqChfYE3',\n",
       "  'zdpuAy1va7n3FKYGrBhnbCVSRfGM8k1MQH6ywN5XzxZpXTz4o',\n",
       "  'zdpuB1Gzf7TGkaXawv3HUwgPyE4qCktVzpQFNp5Bm1SMQZoyY',\n",
       "  'zdpuB1ykUW72jPYKQiPgL5TLsXEjQgMh6EuXeX3WUDhdm6JQs'},\n",
       " {'None',\n",
       "  'zdpuAnsT9XrtvkWdgLHR58TVdRkHPZckx2A9cDyTDfUYPxnbt',\n",
       "  'zdpuAqwRzw5mnMz7Udjd7WBA7xHQkhEbSmLaKwCNq1NSqGqs2',\n",
       "  'zdpuAttVR8V6QEaNKvvTUNSrU4ce6qGGCRjQbHjkNjBjnHCsM',\n",
       "  'zdpuAzGHdKNxz8sWiUGs3e271vRfefPp5Q2wYzeFfRFs156qX',\n",
       "  'zdpuB1Gzf7TGkaXawv3HUwgPyE4qCktVzpQFNp5Bm1SMQZoyY'},\n",
       " {'zdpuAnhA6WihK9nkqhBAjqgZig2b3EWNnDcdFmVhoGB1V1ZdP',\n",
       "  'zdpuApipxw7YXVnxBhd25eNuzoymDzVNLeXMSdbE8U4hEdRxk',\n",
       "  'zdpuAs3qVG5yv8pD966Cm7WySfkQCcfnrmK6b4MkM16eBCxTu',\n",
       "  'zdpuAvsWfvHv5JMQX8aMSVXcUjVay9eUowWk3xMSrYXapZryq',\n",
       "  'zdpuAwGe6AfzH6duihBcya3Lx8ttpPhkyNY61wAzhhYwFjhp8',\n",
       "  'zdpuAy1va7n3FKYGrBhnbCVSRfGM8k1MQH6ywN5XzxZpXTz4o'})"
      ]
     },
     "execution_count": 83,
     "metadata": {},
     "output_type": "execute_result"
    }
   ],
   "source": [
    "cids = {str(block.cid) for block in blocks}\n",
    "decoded_blocks = [block.decoded for block in blocks]\n",
    "referenced_cids = {\n",
    "    str(block['l'])\n",
    "    for block in decoded_blocks\n",
    "    if 'l' in block\n",
    "}\n",
    "referenced_cids_2 = {\n",
    "    str(entry['t'])\n",
    "    for block in decoded_blocks\n",
    "    if 'e' in block\n",
    "    for entry in block['e']\n",
    "}\n",
    "cids & referenced_cids, cids, referenced_cids, cids & referenced_cids_2"
   ]
  },
  {
   "cell_type": "code",
   "execution_count": 54,
   "metadata": {},
   "outputs": [
    {
     "data": {
      "text/plain": [
       "[('zdpuAx7GYAybGShxy9wvkK5eJt6a5G47tz5z5yeFcDqChfYE3',\n",
       "  {'text': 'donkeyballs',\n",
       "   '$type': 'app.bsky.feed.post',\n",
       "   'createdAt': '2023-04-23T23:05:15.184Z'}),\n",
       " ('zdpuB1ykUW72jPYKQiPgL5TLsXEjQgMh6EuXeX3WUDhdm6JQs',\n",
       "  {'e': [{'k': b'app.bsky.feed.like/3jt4gr7d26n2h',\n",
       "     'p': 0,\n",
       "     't': CID('base58btc', 1, 'dag-cbor', '1220a12f7427ec109cb7dd0972129a8e8904f5b4d8ef75033aad1ff18c82e4c7153d'),\n",
       "     'v': CID('base58btc', 1, 'dag-cbor', '122014a86fbbed1fe71f542c69dbb684e2b94c28c83d3c0b97141155de51e6517fc7')}],\n",
       "   'l': CID('base58btc', 1, 'dag-cbor', '1220cdab60836f20c405e627337e8d2e5a180ab0c7fdba9070ffdbf024eb11bc6012')}),\n",
       " ('zdpuAwGe6AfzH6duihBcya3Lx8ttpPhkyNY61wAzhhYwFjhp8',\n",
       "  {'e': [],\n",
       "   'l': CID('base58btc', 1, 'dag-cbor', '1220dcb5752fd2dda81d78a917a51f16da58f7ab1a10955f078a7ec2a6c0161bcf77')}),\n",
       " ('zdpuB1Gzf7TGkaXawv3HUwgPyE4qCktVzpQFNp5Bm1SMQZoyY',\n",
       "  {'e': [{'k': b'app.bsky.feed.like/3jt7ahzizs22a',\n",
       "     'p': 0,\n",
       "     't': CID('base58btc', 1, 'dag-cbor', '12202e7905857fa49f1e7594a6fb4ccc8c34a7ffa65eb04f31d994e0957ec08e41e7'),\n",
       "     'v': CID('base58btc', 1, 'dag-cbor', '1220949607289cf1c2b45f4a6dcd72fd54e8bc178360d42786d246a5f9efddf074a8')},\n",
       "    {'k': b'pgweovu2i',\n",
       "     'p': 23,\n",
       "     't': CID('base58btc', 1, 'dag-cbor', '1220df2d2ae1e2cdecebbc6e8068f6039c380b59eb04093a342b4a11d00f9c521b5e'),\n",
       "     'v': CID('base58btc', 1, 'dag-cbor', '12203e2fa851664557b7974df917f6b096a74df730d97bddf372ad59753551a7038f')},\n",
       "    {'k': b'e6hm4rjn2o',\n",
       "     'p': 22,\n",
       "     't': CID('base58btc', 1, 'dag-cbor', '1220c93aa667fa3418a60e41a1d9a09b927892d8554cfc18f5d6a8adf0885c5cc79d'),\n",
       "     'v': CID('base58btc', 1, 'dag-cbor', '1220b832a7c082ae990dbad7a2cc3a11c6cf708224e044e73e73740cce8cc2a1869d')},\n",
       "    {'k': b'jziwyivk2y',\n",
       "     'p': 22,\n",
       "     't': CID('base58btc', 1, 'dag-cbor', '1220666f52f28d2c121da7c789d67845e1b43939cd46350331a8acf78c5cea03a558'),\n",
       "     'v': CID('base58btc', 1, 'dag-cbor', '12203062a7e3e774b26257eb6642e33efe29e45359ba1a46864524e3376ecfdafaea')},\n",
       "    {'k': b'l2oxlenx2a',\n",
       "     'p': 22,\n",
       "     't': CID('base58btc', 1, 'dag-cbor', '1220884f13b8a144f96d80515ee6f3a17516fdcd6abab223bd60ef9a2ebc01541e7e'),\n",
       "     'v': CID('base58btc', 1, 'dag-cbor', '122041bf0e999d14faf1a0800a9af5d27357c85a274da1f5d9ba6c263e282ae026f8')},\n",
       "    {'k': b'oriviqk2i',\n",
       "     'p': 23,\n",
       "     't': CID('base58btc', 1, 'dag-cbor', '122033c0cb1df85694526b0403a930dd878f5bd505297048b804a3af3f7beccdbce8'),\n",
       "     'v': CID('base58btc', 1, 'dag-cbor', '1220ce75113b18aed36f530518eebbd1a24c02c42428c31fbdbe533c7dca6d5cc894')},\n",
       "    {'k': b'ttykun6o22',\n",
       "     'p': 22,\n",
       "     't': CID('base58btc', 1, 'dag-cbor', '1220015486890a99728ac114e1c75b141781a8d65d58eceac985d358cdb1ed1a8ee3'),\n",
       "     'v': CID('base58btc', 1, 'dag-cbor', '122054058d17c5a5ed09e8a82fb6847c81643f07b9e02e2a8792d38e2d3e44da8e8d')},\n",
       "    {'k': b'vza7xlva27',\n",
       "     'p': 22,\n",
       "     't': CID('base58btc', 1, 'dag-cbor', '12207d7d265b2fa5633b13bdda86a550fbf1f4db4f677de0cf4e4a6b44d4120fa3d1'),\n",
       "     'v': CID('base58btc', 1, 'dag-cbor', '12200097c0ca78f7595e71defadab214d93a3315f0295f0fe2378166659f3380276e')},\n",
       "    {'k': b'u2azjsboc2n',\n",
       "     'p': 21,\n",
       "     't': CID('base58btc', 1, 'dag-cbor', '1220f3480bc268af132bd659ac92545583d41689c3c29dcf846a055b085959f06f79'),\n",
       "     'v': CID('base58btc', 1, 'dag-cbor', '122014bbcd2bc455ea68cc372ead16c96df1c7cf773245ea7187b1609f1642206099')},\n",
       "    {'k': b'post/3jt56nehjsk2b',\n",
       "     'p': 14,\n",
       "     't': CID('base58btc', 1, 'dag-cbor', '1220bb21c06856093ceba467001b3e6fee180253f8dce3ec7200685902170d347cb0'),\n",
       "     'v': CID('base58btc', 1, 'dag-cbor', '122071ad504ad44041532224c67590c7b9886564714c33c75571d978d1695dd97912')},\n",
       "    {'k': b'graph.follow/3jszdb2cxmc24',\n",
       "     'p': 9,\n",
       "     't': CID('base58btc', 1, 'dag-cbor', '1220306f18e43d06ba0cc495158cf8a3620b9f5448d6894813bd7ac31d08288df708'),\n",
       "     'v': CID('base58btc', 1, 'dag-cbor', '122022fa10085e25f9ddde564c317f525dd18b53cd879ef1bc637b36ba5a6d2d592e')},\n",
       "    {'k': b'rxp77ec2s',\n",
       "     'p': 26,\n",
       "     't': CID('base58btc', 1, 'dag-cbor', '122012a50ff8be52fcbcb3bde2c1549c7e118f95b6b0e3b785c85244ffc8f39c6253'),\n",
       "     'v': CID('base58btc', 1, 'dag-cbor', '122061cff8fbd6417db64354f33d764a056059ea69d7093c4673ce8c44aeb920d54e')}],\n",
       "   'l': CID('base58btc', 1, 'dag-cbor', '12207dcb7ed3a44ce40b25abd882034fc909e49c97eca24f44231282fe9f68a30904')}),\n",
       " ('zdpuAy1va7n3FKYGrBhnbCVSRfGM8k1MQH6ywN5XzxZpXTz4o',\n",
       "  {'e': [{'k': b'app.bsky.feed.post/3jt76otcoqk2a',\n",
       "     'p': 0,\n",
       "     't': CID('base58btc', 1, 'dag-cbor', '122040714dfb04e8b74572f97c8e9e006494adfb7f2c3fcf7533d8b2b0961249ee82'),\n",
       "     'v': CID('base58btc', 1, 'dag-cbor', '1220dbfb99efa0beabc58949bc3050e40450b64338a7bb21260b686b6607c918961f')},\n",
       "    {'k': b'jntobu2d2o',\n",
       "     'p': 22,\n",
       "     't': CID('base58btc', 1, 'dag-cbor', '1220e58eb2eec6f6e0edf64767bc47f3f848792a92eee3d861d2f735a14743fe86d3'),\n",
       "     'v': CID('base58btc', 1, 'dag-cbor', '1220eed059c4cbab31b2f0955ad0948c07f31b4b58034ac0a88c7e283e4f23dc3118')},\n",
       "    {'k': b'k6ddsem72i',\n",
       "     'p': 22,\n",
       "     't': CID('base58btc', 1, 'dag-cbor', '122021be237f49922ebc6eb4bbb395bff0eb23c39b1119e4f2252457d8c315e6047e'),\n",
       "     'v': CID('base58btc', 1, 'dag-cbor', '1220cacb6141dd97ac9f8c86744a93e88a3f784317f0e5a574ba1bcba7bc02723e36')},\n",
       "    {'k': b'repost/3jt56k7hyms2a',\n",
       "     'p': 14,\n",
       "     't': CID('base58btc', 1, 'dag-cbor', '1220f72737de2d2da15a229b5540d051c040476e578e0f92704bf32430e148317dff'),\n",
       "     'v': CID('base58btc', 1, 'dag-cbor', '122022660a7c2062c416011b1b13a7bf4fb90a4763f22a7376dc46d232b11dc59374')},\n",
       "    {'k': b'weup4noh2q',\n",
       "     'p': 24,\n",
       "     't': CID('base58btc', 1, 'dag-cbor', '12208ee4c2aa388c0b9938559883cb25a31af069a487bc185aa6226c98325aeecdd5'),\n",
       "     'v': CID('base58btc', 1, 'dag-cbor', '12201fedd6c9d2229ab4cf522f5f23c63a68534b15cc96b495be2aabcb00acdd6c90')},\n",
       "    {'k': b'graph.follow/3jppy7qla5s2m',\n",
       "     'p': 9,\n",
       "     't': CID('base58btc', 1, 'dag-cbor', '1220b3e9150cfe47edf2efe7f3a1320ed67a528e8f971665692dc76acdc6b116fa1a'),\n",
       "     'v': CID('base58btc', 1, 'dag-cbor', '1220dfb438eb390c2974361080f81d0089dd033a862b912910cb03c1244f2e5ba3c1')},\n",
       "    {'k': b'rxgj3zo6k22',\n",
       "     'p': 24,\n",
       "     't': CID('base58btc', 1, 'dag-cbor', '1220eff9980ac13db75ac5e01a97a6bd77e765c8b9eb567cac57cfe16e57498f2e83'),\n",
       "     'v': CID('base58btc', 1, 'dag-cbor', '122069dd5cc71962ac8e6f8a088d2ff0ac7cc624dbda8d7fab858cb5a3df0d572469')},\n",
       "    {'k': b'syaflu7ok2s',\n",
       "     'p': 24,\n",
       "     't': CID('base58btc', 1, 'dag-cbor', '1220b0bdaf7ee119efa6b2319b88087452d773573b14a3dbf6509f83c066db691005'),\n",
       "     'v': CID('base58btc', 1, 'dag-cbor', '1220103fae8487a2e141d7dd11d93c5c58ca3a7b4288ded3eb7363c5b223b49ed59b')}],\n",
       "   'l': CID('base58btc', 1, 'dag-cbor', '122051f95030c9aad9120e733967d835f5384374c184fb4f61b10ea3db2e4da62b4d')}),\n",
       " ('zdpuAnhA6WihK9nkqhBAjqgZig2b3EWNnDcdFmVhoGB1V1ZdP',\n",
       "  {'e': [{'k': b'app.bsky.feed.post/3jtyezkbg272g',\n",
       "     'p': 0,\n",
       "     't': CID('base58btc', 1, 'dag-cbor', '12204f23a3915f1926d91766ff4012b093b786f62f093d14096d137b55fc7afb365c'),\n",
       "     'v': CID('base58btc', 1, 'dag-cbor', '1220c25a8f2a5e91cd0a3fe1152a28e6a07e3cae9e211efd476910c161d3176eadaf')},\n",
       "    {'k': b'pxbjyh62s',\n",
       "     'p': 23,\n",
       "     't': None,\n",
       "     'v': CID('base58btc', 1, 'dag-cbor', '122093e725e685ff25a77f64ace24e9a04dbaf917e3e8ed7e257e38a9c348dd9cbb6')},\n",
       "    {'k': b'ynlvsx2a',\n",
       "     'p': 24,\n",
       "     't': CID('base58btc', 1, 'dag-cbor', '1220bc7fdf173354f7d7d1753f444793bdfc0fbb95141fd9528e1fc897a0645074c8'),\n",
       "     'v': CID('base58btc', 1, 'dag-cbor', '1220a59bde6aa9950a1801638309c9910c38bd1e922b79a97996f0048778d18842e8')},\n",
       "    {'k': b'z2wctehe2n',\n",
       "     'p': 22,\n",
       "     't': CID('base58btc', 1, 'dag-cbor', '1220fdfe633303623633d6780288606eddb6a425d04981c770cd8cf8f6cce20c48a1'),\n",
       "     'v': CID('base58btc', 1, 'dag-cbor', '1220bfd59684cbee38be27e42e8a53b04f1d3003d1252840c5cd60f563fec30f3ddb')},\n",
       "    {'k': b'u2lablkkf2u',\n",
       "     'p': 21,\n",
       "     't': CID('base58btc', 1, 'dag-cbor', '12203fe30b02472b93da43cab4275dfb947011b7739118e3e93f8023729559461fb1'),\n",
       "     'v': CID('base58btc', 1, 'dag-cbor', '12206642c863e77fe45f71eb6211bf8a68fb7df77b86fd6272fa1a18aec8ab79a605')}],\n",
       "   'l': CID('base58btc', 1, 'dag-cbor', '122024613a42c5553153cbd5b288747563c65475e162d1a1987d0cb6e01355cd6b53')}),\n",
       " ('zdpuApipxw7YXVnxBhd25eNuzoymDzVNLeXMSdbE8U4hEdRxk',\n",
       "  {'e': [{'k': b'app.bsky.feed.post/3ju2lg4jtgm2g',\n",
       "     'p': 0,\n",
       "     't': None,\n",
       "     'v': CID('base58btc', 1, 'dag-cbor', '12206f534135ab74fc1f19a392af96bb7db5663513e33ad1d53811a2018443085796')},\n",
       "    {'k': b'vfich2x',\n",
       "     'p': 25,\n",
       "     't': CID('base58btc', 1, 'dag-cbor', '122034e757dc2e99836387eabd044cc440a7e826f3015faa2be28d23f36c1e55819a'),\n",
       "     'v': CID('base58btc', 1, 'dag-cbor', '12207fb49b914931689c9bd2eaa3cadb44109b24e4f789031f81ebfd1940b0259709')},\n",
       "    {'k': b'm5gge3222',\n",
       "     'p': 23,\n",
       "     't': CID('base58btc', 1, 'dag-cbor', '1220a8402f4f0a1d422e0d21c694262bed38225eb100f741e4684153a41af26c7a33'),\n",
       "     'v': CID('base58btc', 1, 'dag-cbor', '1220a83674f4610fa92b75c36b77ebf2ff766d0e8a25e6419d83c65fe9b484feb3f0')},\n",
       "    {'k': b'por7hce2u',\n",
       "     'p': 23,\n",
       "     't': CID('base58btc', 1, 'dag-cbor', '1220b81bd7e3c81af04bee581fbb7aeaf3b02edc84f5bb8af206a389dfbfba0d444c'),\n",
       "     'v': CID('base58btc', 1, 'dag-cbor', '1220ca0fe6648b8e02b0cd6a676f3ec3b4f7e7d1c891c602f2e9230179128080c8d3')},\n",
       "    {'k': b'tz2sj572g',\n",
       "     'p': 23,\n",
       "     't': None,\n",
       "     'v': CID('base58btc', 1, 'dag-cbor', '12207acdf1eed61371bbe11e1bcf35efbaa57658a79c71c4251d4ceeb9a9210f6708')},\n",
       "    {'k': b'wpttj2u',\n",
       "     'p': 25,\n",
       "     't': CID('base58btc', 1, 'dag-cbor', '122066b2ef42367c2eec7f414a31e47cd0e9422c0f5c6406b58f4f646b8f264405fc'),\n",
       "     'v': CID('base58btc', 1, 'dag-cbor', '1220fd4760f440dff1879505d78d84c5facb02fc1e0a5eec862a4a0527012706d29d')},\n",
       "    {'k': b'y5qzqka22',\n",
       "     'p': 23,\n",
       "     't': CID('base58btc', 1, 'dag-cbor', '122046f930fedef64f81b2343d725abbc51a3501181feea4331d8594e68942cb8402'),\n",
       "     'v': CID('base58btc', 1, 'dag-cbor', '1220cc41285163e70a749f20f84074ad07b3ad2e8901d8835da79d9b4817e869e288')},\n",
       "    {'k': b'334m3f2r2g',\n",
       "     'p': 22,\n",
       "     't': CID('base58btc', 1, 'dag-cbor', '122062790b1fb4948997ae957174afe04a20834dc1f58f99eb44d9dcefb5e07cf48c'),\n",
       "     'v': CID('base58btc', 1, 'dag-cbor', '1220a6452438dc4356f0c74e30b42e429b9403dfc0fb3d6a70b781fb1674dd6ec276')},\n",
       "    {'k': b'5q7husm2p',\n",
       "     'p': 23,\n",
       "     't': CID('base58btc', 1, 'dag-cbor', '12209b42b51e045ebf8228abc41b9ac9d57cde2ef9db37fea8b582edfe0093b40954'),\n",
       "     'v': CID('base58btc', 1, 'dag-cbor', '1220ada48b7c8394d2855f97e9e47ec0ea63d57778e1af14283ea1a0c2d6a86dc1a0')},\n",
       "    {'k': b'repost/3jszfqwzrtc2j',\n",
       "     'p': 14,\n",
       "     't': None,\n",
       "     'v': CID('base58btc', 1, 'dag-cbor', '12200f11e63eeec475eb2dfa6227d0b2b3a258d6f95f270c4b43f6f007c7e092545f')},\n",
       "    {'k': b't25lok6sc26',\n",
       "     'p': 23,\n",
       "     't': CID('base58btc', 1, 'dag-cbor', '12209a80ff9286dbef708e6c0966c7712894905fc68cdbc0076345e0f662820ad562'),\n",
       "     'v': CID('base58btc', 1, 'dag-cbor', '122028c090e363d855c50d4d907d431e6ae031c8fe4490033a675f696f8767e675d6')},\n",
       "    {'k': b'alszq3k26',\n",
       "     'p': 25,\n",
       "     't': CID('base58btc', 1, 'dag-cbor', '1220d57d176c5c4c04345f38f74e515702db5bb07f97260d90ae226935d0dd82c393'),\n",
       "     'v': CID('base58btc', 1, 'dag-cbor', '1220d05262999784e15519ced910ccd26da9b52d44c8366580ca3f1fc8ca97f131fc')}],\n",
       "   'l': None}),\n",
       " ('zdpuAs3qVG5yv8pD966Cm7WySfkQCcfnrmK6b4MkM16eBCxTu',\n",
       "  {'e': [{'k': b'app.bsky.feed.post/3ju33oq6tau23',\n",
       "     'p': 0,\n",
       "     't': None,\n",
       "     'v': CID('base58btc', 1, 'dag-cbor', '12202985643f6eaa9846e1e240f48626e162b50103370ad4bffad9cd2208254b0087')}],\n",
       "   'l': None}),\n",
       " ('zdpuAvsWfvHv5JMQX8aMSVXcUjVay9eUowWk3xMSrYXapZryq',\n",
       "  {'e': [{'k': b'app.bsky.feed.repost/3jqm5ypl3mk2g',\n",
       "     'p': 0,\n",
       "     't': None,\n",
       "     'v': CID('base58btc', 1, 'dag-cbor', '1220e56e02f0c7cd4c87eb5399784fa293acfe6e9750ec173be8f97962ee4b5aba2a')}],\n",
       "   'l': None}),\n",
       " ('zdpuArKcqh4Bfc5ufSWKTSS1jFRYJ47gpuxCEVXeWdMEjDpAM',\n",
       "  {'did': 'did:plc:o32okshy54r5h2vlrjpz3aln',\n",
       "   'sig': b'u\\xa8\\x8a\\xfa@\\x15\\xbd\\x1f\\x94\\x0bN\\xfb\\x01\\x16\\x0c>\\xaa\\x8d\\x06\\x06u0tG\\xf9\\xb7(\\x03\\x98LS\\x91xB\\xa1\\t\\xc2v\\xaeUH\\xb4\\xd0l\\xf9\\x8d\\xd5\\xb5\\xdd\\x16\\xd4W8\\x0f)\\xc2\\xbd\\x82\\x11\\x85\\x16\\n\\xaa-',\n",
       "   'data': CID('base58btc', 1, 'dag-cbor', '1220e7263bf7f45019d1f50663d2c6bb217d80a3f2e5bca651f751aab1ff47be5dd4'),\n",
       "   'prev': CID('base58btc', 1, 'dag-cbor', '12201635542e07f43898837f2b8f632fcf260401dc10f799a11c0f27c6a4be7dbab5'),\n",
       "   'version': 2})]"
      ]
     },
     "execution_count": 54,
     "metadata": {},
     "output_type": "execute_result"
    }
   ],
   "source": [
    "[(str(block.cid), block.decoded) for block in blocks]"
   ]
  },
  {
   "cell_type": "code",
   "execution_count": 76,
   "metadata": {},
   "outputs": [
    {
     "data": {
      "text/plain": [
       "[{'text': 'donkeyballs',\n",
       "  '$type': 'app.bsky.feed.post',\n",
       "  'createdAt': '2023-04-23T23:05:15.184Z'},\n",
       " {'e': [{'k': b'app.bsky.feed.like/3jt4gr7d26n2h',\n",
       "    'p': 0,\n",
       "    't': CID('base58btc', 1, 'dag-cbor', '1220a12f7427ec109cb7dd0972129a8e8904f5b4d8ef75033aad1ff18c82e4c7153d'),\n",
       "    'v': CID('base58btc', 1, 'dag-cbor', '122014a86fbbed1fe71f542c69dbb684e2b94c28c83d3c0b97141155de51e6517fc7')}],\n",
       "  'l': CID('base58btc', 1, 'dag-cbor', '1220cdab60836f20c405e627337e8d2e5a180ab0c7fdba9070ffdbf024eb11bc6012')},\n",
       " {'e': [],\n",
       "  'l': CID('base58btc', 1, 'dag-cbor', '1220dcb5752fd2dda81d78a917a51f16da58f7ab1a10955f078a7ec2a6c0161bcf77')},\n",
       " {'e': [{'k': b'app.bsky.feed.like/3jt7ahzizs22a',\n",
       "    'p': 0,\n",
       "    't': CID('base58btc', 1, 'dag-cbor', '12202e7905857fa49f1e7594a6fb4ccc8c34a7ffa65eb04f31d994e0957ec08e41e7'),\n",
       "    'v': CID('base58btc', 1, 'dag-cbor', '1220949607289cf1c2b45f4a6dcd72fd54e8bc178360d42786d246a5f9efddf074a8')},\n",
       "   {'k': b'pgweovu2i',\n",
       "    'p': 23,\n",
       "    't': CID('base58btc', 1, 'dag-cbor', '1220df2d2ae1e2cdecebbc6e8068f6039c380b59eb04093a342b4a11d00f9c521b5e'),\n",
       "    'v': CID('base58btc', 1, 'dag-cbor', '12203e2fa851664557b7974df917f6b096a74df730d97bddf372ad59753551a7038f')},\n",
       "   {'k': b'e6hm4rjn2o',\n",
       "    'p': 22,\n",
       "    't': CID('base58btc', 1, 'dag-cbor', '1220c93aa667fa3418a60e41a1d9a09b927892d8554cfc18f5d6a8adf0885c5cc79d'),\n",
       "    'v': CID('base58btc', 1, 'dag-cbor', '1220b832a7c082ae990dbad7a2cc3a11c6cf708224e044e73e73740cce8cc2a1869d')},\n",
       "   {'k': b'jziwyivk2y',\n",
       "    'p': 22,\n",
       "    't': CID('base58btc', 1, 'dag-cbor', '1220666f52f28d2c121da7c789d67845e1b43939cd46350331a8acf78c5cea03a558'),\n",
       "    'v': CID('base58btc', 1, 'dag-cbor', '12203062a7e3e774b26257eb6642e33efe29e45359ba1a46864524e3376ecfdafaea')},\n",
       "   {'k': b'l2oxlenx2a',\n",
       "    'p': 22,\n",
       "    't': CID('base58btc', 1, 'dag-cbor', '1220884f13b8a144f96d80515ee6f3a17516fdcd6abab223bd60ef9a2ebc01541e7e'),\n",
       "    'v': CID('base58btc', 1, 'dag-cbor', '122041bf0e999d14faf1a0800a9af5d27357c85a274da1f5d9ba6c263e282ae026f8')},\n",
       "   {'k': b'oriviqk2i',\n",
       "    'p': 23,\n",
       "    't': CID('base58btc', 1, 'dag-cbor', '122033c0cb1df85694526b0403a930dd878f5bd505297048b804a3af3f7beccdbce8'),\n",
       "    'v': CID('base58btc', 1, 'dag-cbor', '1220ce75113b18aed36f530518eebbd1a24c02c42428c31fbdbe533c7dca6d5cc894')},\n",
       "   {'k': b'ttykun6o22',\n",
       "    'p': 22,\n",
       "    't': CID('base58btc', 1, 'dag-cbor', '1220015486890a99728ac114e1c75b141781a8d65d58eceac985d358cdb1ed1a8ee3'),\n",
       "    'v': CID('base58btc', 1, 'dag-cbor', '122054058d17c5a5ed09e8a82fb6847c81643f07b9e02e2a8792d38e2d3e44da8e8d')},\n",
       "   {'k': b'vza7xlva27',\n",
       "    'p': 22,\n",
       "    't': CID('base58btc', 1, 'dag-cbor', '12207d7d265b2fa5633b13bdda86a550fbf1f4db4f677de0cf4e4a6b44d4120fa3d1'),\n",
       "    'v': CID('base58btc', 1, 'dag-cbor', '12200097c0ca78f7595e71defadab214d93a3315f0295f0fe2378166659f3380276e')},\n",
       "   {'k': b'u2azjsboc2n',\n",
       "    'p': 21,\n",
       "    't': CID('base58btc', 1, 'dag-cbor', '1220f3480bc268af132bd659ac92545583d41689c3c29dcf846a055b085959f06f79'),\n",
       "    'v': CID('base58btc', 1, 'dag-cbor', '122014bbcd2bc455ea68cc372ead16c96df1c7cf773245ea7187b1609f1642206099')},\n",
       "   {'k': b'post/3jt56nehjsk2b',\n",
       "    'p': 14,\n",
       "    't': CID('base58btc', 1, 'dag-cbor', '1220bb21c06856093ceba467001b3e6fee180253f8dce3ec7200685902170d347cb0'),\n",
       "    'v': CID('base58btc', 1, 'dag-cbor', '122071ad504ad44041532224c67590c7b9886564714c33c75571d978d1695dd97912')},\n",
       "   {'k': b'graph.follow/3jszdb2cxmc24',\n",
       "    'p': 9,\n",
       "    't': CID('base58btc', 1, 'dag-cbor', '1220306f18e43d06ba0cc495158cf8a3620b9f5448d6894813bd7ac31d08288df708'),\n",
       "    'v': CID('base58btc', 1, 'dag-cbor', '122022fa10085e25f9ddde564c317f525dd18b53cd879ef1bc637b36ba5a6d2d592e')},\n",
       "   {'k': b'rxp77ec2s',\n",
       "    'p': 26,\n",
       "    't': CID('base58btc', 1, 'dag-cbor', '122012a50ff8be52fcbcb3bde2c1549c7e118f95b6b0e3b785c85244ffc8f39c6253'),\n",
       "    'v': CID('base58btc', 1, 'dag-cbor', '122061cff8fbd6417db64354f33d764a056059ea69d7093c4673ce8c44aeb920d54e')}],\n",
       "  'l': CID('base58btc', 1, 'dag-cbor', '12207dcb7ed3a44ce40b25abd882034fc909e49c97eca24f44231282fe9f68a30904')},\n",
       " {'e': [{'k': b'app.bsky.feed.post/3jt76otcoqk2a',\n",
       "    'p': 0,\n",
       "    't': CID('base58btc', 1, 'dag-cbor', '122040714dfb04e8b74572f97c8e9e006494adfb7f2c3fcf7533d8b2b0961249ee82'),\n",
       "    'v': CID('base58btc', 1, 'dag-cbor', '1220dbfb99efa0beabc58949bc3050e40450b64338a7bb21260b686b6607c918961f')},\n",
       "   {'k': b'jntobu2d2o',\n",
       "    'p': 22,\n",
       "    't': CID('base58btc', 1, 'dag-cbor', '1220e58eb2eec6f6e0edf64767bc47f3f848792a92eee3d861d2f735a14743fe86d3'),\n",
       "    'v': CID('base58btc', 1, 'dag-cbor', '1220eed059c4cbab31b2f0955ad0948c07f31b4b58034ac0a88c7e283e4f23dc3118')},\n",
       "   {'k': b'k6ddsem72i',\n",
       "    'p': 22,\n",
       "    't': CID('base58btc', 1, 'dag-cbor', '122021be237f49922ebc6eb4bbb395bff0eb23c39b1119e4f2252457d8c315e6047e'),\n",
       "    'v': CID('base58btc', 1, 'dag-cbor', '1220cacb6141dd97ac9f8c86744a93e88a3f784317f0e5a574ba1bcba7bc02723e36')},\n",
       "   {'k': b'repost/3jt56k7hyms2a',\n",
       "    'p': 14,\n",
       "    't': CID('base58btc', 1, 'dag-cbor', '1220f72737de2d2da15a229b5540d051c040476e578e0f92704bf32430e148317dff'),\n",
       "    'v': CID('base58btc', 1, 'dag-cbor', '122022660a7c2062c416011b1b13a7bf4fb90a4763f22a7376dc46d232b11dc59374')},\n",
       "   {'k': b'weup4noh2q',\n",
       "    'p': 24,\n",
       "    't': CID('base58btc', 1, 'dag-cbor', '12208ee4c2aa388c0b9938559883cb25a31af069a487bc185aa6226c98325aeecdd5'),\n",
       "    'v': CID('base58btc', 1, 'dag-cbor', '12201fedd6c9d2229ab4cf522f5f23c63a68534b15cc96b495be2aabcb00acdd6c90')},\n",
       "   {'k': b'graph.follow/3jppy7qla5s2m',\n",
       "    'p': 9,\n",
       "    't': CID('base58btc', 1, 'dag-cbor', '1220b3e9150cfe47edf2efe7f3a1320ed67a528e8f971665692dc76acdc6b116fa1a'),\n",
       "    'v': CID('base58btc', 1, 'dag-cbor', '1220dfb438eb390c2974361080f81d0089dd033a862b912910cb03c1244f2e5ba3c1')},\n",
       "   {'k': b'rxgj3zo6k22',\n",
       "    'p': 24,\n",
       "    't': CID('base58btc', 1, 'dag-cbor', '1220eff9980ac13db75ac5e01a97a6bd77e765c8b9eb567cac57cfe16e57498f2e83'),\n",
       "    'v': CID('base58btc', 1, 'dag-cbor', '122069dd5cc71962ac8e6f8a088d2ff0ac7cc624dbda8d7fab858cb5a3df0d572469')},\n",
       "   {'k': b'syaflu7ok2s',\n",
       "    'p': 24,\n",
       "    't': CID('base58btc', 1, 'dag-cbor', '1220b0bdaf7ee119efa6b2319b88087452d773573b14a3dbf6509f83c066db691005'),\n",
       "    'v': CID('base58btc', 1, 'dag-cbor', '1220103fae8487a2e141d7dd11d93c5c58ca3a7b4288ded3eb7363c5b223b49ed59b')}],\n",
       "  'l': CID('base58btc', 1, 'dag-cbor', '122051f95030c9aad9120e733967d835f5384374c184fb4f61b10ea3db2e4da62b4d')},\n",
       " {'e': [{'k': b'app.bsky.feed.post/3jtyezkbg272g',\n",
       "    'p': 0,\n",
       "    't': CID('base58btc', 1, 'dag-cbor', '12204f23a3915f1926d91766ff4012b093b786f62f093d14096d137b55fc7afb365c'),\n",
       "    'v': CID('base58btc', 1, 'dag-cbor', '1220c25a8f2a5e91cd0a3fe1152a28e6a07e3cae9e211efd476910c161d3176eadaf')},\n",
       "   {'k': b'pxbjyh62s',\n",
       "    'p': 23,\n",
       "    't': None,\n",
       "    'v': CID('base58btc', 1, 'dag-cbor', '122093e725e685ff25a77f64ace24e9a04dbaf917e3e8ed7e257e38a9c348dd9cbb6')},\n",
       "   {'k': b'ynlvsx2a',\n",
       "    'p': 24,\n",
       "    't': CID('base58btc', 1, 'dag-cbor', '1220bc7fdf173354f7d7d1753f444793bdfc0fbb95141fd9528e1fc897a0645074c8'),\n",
       "    'v': CID('base58btc', 1, 'dag-cbor', '1220a59bde6aa9950a1801638309c9910c38bd1e922b79a97996f0048778d18842e8')},\n",
       "   {'k': b'z2wctehe2n',\n",
       "    'p': 22,\n",
       "    't': CID('base58btc', 1, 'dag-cbor', '1220fdfe633303623633d6780288606eddb6a425d04981c770cd8cf8f6cce20c48a1'),\n",
       "    'v': CID('base58btc', 1, 'dag-cbor', '1220bfd59684cbee38be27e42e8a53b04f1d3003d1252840c5cd60f563fec30f3ddb')},\n",
       "   {'k': b'u2lablkkf2u',\n",
       "    'p': 21,\n",
       "    't': CID('base58btc', 1, 'dag-cbor', '12203fe30b02472b93da43cab4275dfb947011b7739118e3e93f8023729559461fb1'),\n",
       "    'v': CID('base58btc', 1, 'dag-cbor', '12206642c863e77fe45f71eb6211bf8a68fb7df77b86fd6272fa1a18aec8ab79a605')}],\n",
       "  'l': CID('base58btc', 1, 'dag-cbor', '122024613a42c5553153cbd5b288747563c65475e162d1a1987d0cb6e01355cd6b53')},\n",
       " {'e': [{'k': b'app.bsky.feed.post/3ju2lg4jtgm2g',\n",
       "    'p': 0,\n",
       "    't': None,\n",
       "    'v': CID('base58btc', 1, 'dag-cbor', '12206f534135ab74fc1f19a392af96bb7db5663513e33ad1d53811a2018443085796')},\n",
       "   {'k': b'vfich2x',\n",
       "    'p': 25,\n",
       "    't': CID('base58btc', 1, 'dag-cbor', '122034e757dc2e99836387eabd044cc440a7e826f3015faa2be28d23f36c1e55819a'),\n",
       "    'v': CID('base58btc', 1, 'dag-cbor', '12207fb49b914931689c9bd2eaa3cadb44109b24e4f789031f81ebfd1940b0259709')},\n",
       "   {'k': b'm5gge3222',\n",
       "    'p': 23,\n",
       "    't': CID('base58btc', 1, 'dag-cbor', '1220a8402f4f0a1d422e0d21c694262bed38225eb100f741e4684153a41af26c7a33'),\n",
       "    'v': CID('base58btc', 1, 'dag-cbor', '1220a83674f4610fa92b75c36b77ebf2ff766d0e8a25e6419d83c65fe9b484feb3f0')},\n",
       "   {'k': b'por7hce2u',\n",
       "    'p': 23,\n",
       "    't': CID('base58btc', 1, 'dag-cbor', '1220b81bd7e3c81af04bee581fbb7aeaf3b02edc84f5bb8af206a389dfbfba0d444c'),\n",
       "    'v': CID('base58btc', 1, 'dag-cbor', '1220ca0fe6648b8e02b0cd6a676f3ec3b4f7e7d1c891c602f2e9230179128080c8d3')},\n",
       "   {'k': b'tz2sj572g',\n",
       "    'p': 23,\n",
       "    't': None,\n",
       "    'v': CID('base58btc', 1, 'dag-cbor', '12207acdf1eed61371bbe11e1bcf35efbaa57658a79c71c4251d4ceeb9a9210f6708')},\n",
       "   {'k': b'wpttj2u',\n",
       "    'p': 25,\n",
       "    't': CID('base58btc', 1, 'dag-cbor', '122066b2ef42367c2eec7f414a31e47cd0e9422c0f5c6406b58f4f646b8f264405fc'),\n",
       "    'v': CID('base58btc', 1, 'dag-cbor', '1220fd4760f440dff1879505d78d84c5facb02fc1e0a5eec862a4a0527012706d29d')},\n",
       "   {'k': b'y5qzqka22',\n",
       "    'p': 23,\n",
       "    't': CID('base58btc', 1, 'dag-cbor', '122046f930fedef64f81b2343d725abbc51a3501181feea4331d8594e68942cb8402'),\n",
       "    'v': CID('base58btc', 1, 'dag-cbor', '1220cc41285163e70a749f20f84074ad07b3ad2e8901d8835da79d9b4817e869e288')},\n",
       "   {'k': b'334m3f2r2g',\n",
       "    'p': 22,\n",
       "    't': CID('base58btc', 1, 'dag-cbor', '122062790b1fb4948997ae957174afe04a20834dc1f58f99eb44d9dcefb5e07cf48c'),\n",
       "    'v': CID('base58btc', 1, 'dag-cbor', '1220a6452438dc4356f0c74e30b42e429b9403dfc0fb3d6a70b781fb1674dd6ec276')},\n",
       "   {'k': b'5q7husm2p',\n",
       "    'p': 23,\n",
       "    't': CID('base58btc', 1, 'dag-cbor', '12209b42b51e045ebf8228abc41b9ac9d57cde2ef9db37fea8b582edfe0093b40954'),\n",
       "    'v': CID('base58btc', 1, 'dag-cbor', '1220ada48b7c8394d2855f97e9e47ec0ea63d57778e1af14283ea1a0c2d6a86dc1a0')},\n",
       "   {'k': b'repost/3jszfqwzrtc2j',\n",
       "    'p': 14,\n",
       "    't': None,\n",
       "    'v': CID('base58btc', 1, 'dag-cbor', '12200f11e63eeec475eb2dfa6227d0b2b3a258d6f95f270c4b43f6f007c7e092545f')},\n",
       "   {'k': b't25lok6sc26',\n",
       "    'p': 23,\n",
       "    't': CID('base58btc', 1, 'dag-cbor', '12209a80ff9286dbef708e6c0966c7712894905fc68cdbc0076345e0f662820ad562'),\n",
       "    'v': CID('base58btc', 1, 'dag-cbor', '122028c090e363d855c50d4d907d431e6ae031c8fe4490033a675f696f8767e675d6')},\n",
       "   {'k': b'alszq3k26',\n",
       "    'p': 25,\n",
       "    't': CID('base58btc', 1, 'dag-cbor', '1220d57d176c5c4c04345f38f74e515702db5bb07f97260d90ae226935d0dd82c393'),\n",
       "    'v': CID('base58btc', 1, 'dag-cbor', '1220d05262999784e15519ced910ccd26da9b52d44c8366580ca3f1fc8ca97f131fc')}],\n",
       "  'l': None},\n",
       " {'e': [{'k': b'app.bsky.feed.post/3ju33oq6tau23',\n",
       "    'p': 0,\n",
       "    't': None,\n",
       "    'v': CID('base58btc', 1, 'dag-cbor', '12202985643f6eaa9846e1e240f48626e162b50103370ad4bffad9cd2208254b0087')}],\n",
       "  'l': None},\n",
       " {'e': [{'k': b'app.bsky.feed.repost/3jqm5ypl3mk2g',\n",
       "    'p': 0,\n",
       "    't': None,\n",
       "    'v': CID('base58btc', 1, 'dag-cbor', '1220e56e02f0c7cd4c87eb5399784fa293acfe6e9750ec173be8f97962ee4b5aba2a')}],\n",
       "  'l': None},\n",
       " {'did': 'did:plc:o32okshy54r5h2vlrjpz3aln',\n",
       "  'sig': b'u\\xa8\\x8a\\xfa@\\x15\\xbd\\x1f\\x94\\x0bN\\xfb\\x01\\x16\\x0c>\\xaa\\x8d\\x06\\x06u0tG\\xf9\\xb7(\\x03\\x98LS\\x91xB\\xa1\\t\\xc2v\\xaeUH\\xb4\\xd0l\\xf9\\x8d\\xd5\\xb5\\xdd\\x16\\xd4W8\\x0f)\\xc2\\xbd\\x82\\x11\\x85\\x16\\n\\xaa-',\n",
       "  'data': CID('base58btc', 1, 'dag-cbor', '1220e7263bf7f45019d1f50663d2c6bb217d80a3f2e5bca651f751aab1ff47be5dd4'),\n",
       "  'prev': CID('base58btc', 1, 'dag-cbor', '12201635542e07f43898837f2b8f632fcf260401dc10f799a11c0f27c6a4be7dbab5'),\n",
       "  'version': 2}]"
      ]
     },
     "execution_count": 76,
     "metadata": {},
     "output_type": "execute_result"
    }
   ],
   "source": [
    "[block.decoded for block in blocks]"
   ]
  },
  {
   "cell_type": "markdown",
   "metadata": {},
   "source": [
    "This is the CID of the content in value,"
   ]
  },
  {
   "cell_type": "code",
   "execution_count": 22,
   "metadata": {},
   "outputs": [
    {
     "name": "stdout",
     "output_type": "stream",
     "text": [
      "bafyreifnusfxza4u2kcv7f7j4r7mb2td2v3xrynpcqud5inayllkq3obua\n"
     ]
    },
    {
     "data": {
      "text/plain": [
       "{'uri': 'at://did:plc:o32okshy54r5h2vlrjpz3aln/app.bsky.feed.post/3ju35q7husm2p',\n",
       " 'cid': 'bafyreifnusfxza4u2kcv7f7j4r7mb2td2v3xrynpcqud5inayllkq3obua',\n",
       " 'value': {'text': 'donkeyballs',\n",
       "  '$type': 'app.bsky.feed.post',\n",
       "  'createdAt': '2023-04-23T23:05:15.184Z'}}"
      ]
     },
     "execution_count": 22,
     "metadata": {},
     "output_type": "execute_result"
    }
   ],
   "source": [
    "from multiformats import CID\n",
    "from psychonaut.api.lexicons.com.atproto.repo.get_record import GetRecordReq\n",
    "\n",
    "\n",
    "collection, rkey = str(event.ops[0].path).split(\"/\")\n",
    "req_resp = (await GetRecordReq(\n",
    "    repo=event.repo,\n",
    "    collection=collection,\n",
    "    rkey=rkey,\n",
    ").do_xrpc(sess))\n",
    "print(CID.decode(req_resp.cid))\n",
    "req_resp.dict()"
   ]
  },
  {
   "cell_type": "code",
   "execution_count": 62,
   "metadata": {},
   "outputs": [
    {
     "data": {
      "text/plain": [
       "(CID('base32', 1, 'dag-cbor', '1220ada48b7c8394d2855f97e9e47ec0ea63d57778e1af14283ea1a0c2d6a86dc1a0'),\n",
       " CID('base58btc', 1, 'dag-cbor', '1220ada48b7c8394d2855f97e9e47ec0ea63d57778e1af14283ea1a0c2d6a86dc1a0'))"
      ]
     },
     "execution_count": 62,
     "metadata": {},
     "output_type": "execute_result"
    }
   ],
   "source": [
    "CID.decode(req_resp.cid), blocks[0].cid # Not sure why they have different CID defaults"
   ]
  },
  {
   "cell_type": "code",
   "execution_count": 74,
   "metadata": {},
   "outputs": [
    {
     "data": {
      "text/plain": [
       "('zdpuAx7GYAybGShxy9wvkK5eJt6a5G47tz5z5yeFcDqChfYE3',\n",
       " 'zdpuAx7GYAybGShxy9wvkK5eJt6a5G47tz5z5yeFcDqChfYE3')"
      ]
     },
     "execution_count": 74,
     "metadata": {},
     "output_type": "execute_result"
    }
   ],
   "source": [
    "CID.decode(req_resp.cid).encode(\"base58btc\"), str(blocks[0].cid)  # They decode the same"
   ]
  },
  {
   "cell_type": "code",
   "execution_count": 27,
   "metadata": {},
   "outputs": [
    {
     "data": {
      "text/plain": [
       "'zdpuArKcqh4Bfc5ufSWKTSS1jFRYJ47gpuxCEVXeWdMEjDpAM'"
      ]
     },
     "execution_count": 27,
     "metadata": {},
     "output_type": "execute_result"
    }
   ],
   "source": [
    "str(event.commit)"
   ]
  },
  {
   "cell_type": "code",
   "execution_count": 32,
   "metadata": {},
   "outputs": [
    {
     "data": {
      "text/plain": [
       "CID('base58btc', 1, 'dag-cbor', '122057a8593ed2fc40ec40c792f26ac497262b99f01c6174fa65e11fe672192f215a')"
      ]
     },
     "execution_count": 32,
     "metadata": {},
     "output_type": "execute_result"
    }
   ],
   "source": [
    "event.commit"
   ]
  },
  {
   "cell_type": "code",
   "execution_count": 51,
   "metadata": {},
   "outputs": [
    {
     "data": {
      "text/plain": [
       "(CID('base32', 1, 'dag-cbor', '1220ada48b7c8394d2855f97e9e47ec0ea63d57778e1af14283ea1a0c2d6a86dc1a0'),\n",
       " '1220ada48b7c8394d2855f97e9e47ec0ea63d57778e1af14283ea1a0c2d6a86dc1a0')"
      ]
     },
     "execution_count": 51,
     "metadata": {},
     "output_type": "execute_result"
    }
   ],
   "source": [
    "import dag_cbor\n",
    "\n",
    "(\n",
    "    CID.decode(req_resp.cid),\n",
    "    event.commit.hashfun.digest(dag_cbor.encode(req_resp.value)).hex(),\n",
    ")"
   ]
  },
  {
   "cell_type": "code",
   "execution_count": 50,
   "metadata": {},
   "outputs": [
    {
     "data": {
      "text/plain": [
       "CID('base32', 1, 'dag-cbor', '1220ada48b7c8394d2855f97e9e47ec0ea63d57778e1af14283ea1a0c2d6a86dc1a0')"
      ]
     },
     "execution_count": 50,
     "metadata": {},
     "output_type": "execute_result"
    }
   ],
   "source": []
  },
  {
   "cell_type": "code",
   "execution_count": 40,
   "metadata": {},
   "outputs": [
    {
     "data": {
      "text/plain": [
       "{'uri': 'at://did:plc:o32okshy54r5h2vlrjpz3aln/app.bsky.feed.post/3jt76otcoqk2a',\n",
       " 'cid': 'bafyreig37om67if6vpcyssn4gbioibcqwzbtrj53eetaw2dlmyd4sgewd4',\n",
       " 'value': {'text': 'yes for a nice long nap',\n",
       "  '$type': 'app.bsky.feed.post',\n",
       "  'reply': {'root': {'cid': 'bafyreibuht7vakzsxyglaxvo5ntxguyy6s22d7x27b6hnb5oztzqtigcmy',\n",
       "    'uri': 'at://did:plc:o32okshy54r5h2vlrjpz3aln/app.bsky.feed.post/3jt76mavus22z'},\n",
       "   'parent': {'cid': 'bafyreiedtpfltjxxrzeo4r6uk7ols3e6umn6gsx6eearexyq3je3rocbfi',\n",
       "    'uri': 'at://did:plc:4rnej33af5ly4yjgpuaeupd3/app.bsky.feed.post/3jt76ndfzsd2q'}},\n",
       "  'createdAt': '2023-04-12T20:07:49.991Z'}}"
      ]
     },
     "execution_count": 40,
     "metadata": {},
     "output_type": "execute_result"
    }
   ],
   "source": [
    "(await GetRecordReq(\n",
    "    repo=repo,\n",
    "    collection=\"app.bsky.feed.post\",\n",
    "    rkey=\"3jt76otcoqk2a\",\n",
    ").do_xrpc(sess)).dict()"
   ]
  },
  {
   "cell_type": "code",
   "execution_count": 34,
   "metadata": {},
   "outputs": [
    {
     "data": {
      "text/plain": [
       "<module 'multiformats.varint' from '/home/generativist/.cache/pypoetry/virtualenvs/psychonaut-hgjsIY8y-py3.10/lib/python3.10/site-packages/multiformats/varint/__init__.py'>"
      ]
     },
     "execution_count": 34,
     "metadata": {},
     "output_type": "execute_result"
    }
   ],
   "source": [
    "from multiformats import varint\n",
    "\n",
    "varint"
   ]
  },
  {
   "cell_type": "code",
   "execution_count": null,
   "metadata": {},
   "outputs": [],
   "source": []
  }
 ],
 "metadata": {
  "kernelspec": {
   "display_name": "psychonaut-hgjsIY8y-py3.10",
   "language": "python",
   "name": "python3"
  },
  "language_info": {
   "codemirror_mode": {
    "name": "ipython",
    "version": 3
   },
   "file_extension": ".py",
   "mimetype": "text/x-python",
   "name": "python",
   "nbconvert_exporter": "python",
   "pygments_lexer": "ipython3",
   "version": "3.10.6"
  },
  "orig_nbformat": 4
 },
 "nbformat": 4,
 "nbformat_minor": 2
}
